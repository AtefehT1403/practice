{
  "nbformat": 4,
  "nbformat_minor": 0,
  "metadata": {
    "colab": {
      "provenance": [],
      "authorship_tag": "ABX9TyML90HiZJrD5AafzxvMXM8s",
      "include_colab_link": true
    },
    "kernelspec": {
      "name": "python3",
      "display_name": "Python 3"
    },
    "language_info": {
      "name": "python"
    }
  },
  "cells": [
    {
      "cell_type": "markdown",
      "metadata": {
        "id": "view-in-github",
        "colab_type": "text"
      },
      "source": [
        "<a href=\"https://colab.research.google.com/github/AtefehT1403/practice/blob/main/Forward%26Backward.ipynb\" target=\"_parent\"><img src=\"https://colab.research.google.com/assets/colab-badge.svg\" alt=\"Open In Colab\"/></a>"
      ]
    },
    {
      "cell_type": "code",
      "execution_count": 1,
      "metadata": {
        "colab": {
          "base_uri": "https://localhost:8080/"
        },
        "id": "bCFmnuVnu3FI",
        "outputId": "97ddf045-6dec-4e79-c18e-38a6bf20bcea"
      },
      "outputs": [
        {
          "output_type": "stream",
          "name": "stdout",
          "text": [
            "Epoch 0, Loss: 0.2841\n",
            "Epoch 1000, Loss: 0.2463\n",
            "Epoch 2000, Loss: 0.2384\n",
            "Epoch 3000, Loss: 0.2264\n",
            "Epoch 4000, Loss: 0.2112\n",
            "Epoch 5000, Loss: 0.1955\n",
            "Epoch 6000, Loss: 0.1811\n",
            "Epoch 7000, Loss: 0.1673\n",
            "Epoch 8000, Loss: 0.1508\n",
            "Epoch 9000, Loss: 0.1259\n",
            "\n",
            "Output after training:\n",
            "[[0.18764573]\n",
            " [0.68713286]\n",
            " [0.72263454]\n",
            " [0.41135405]]\n"
          ]
        }
      ],
      "source": [
        "import numpy as np\n",
        "\n",
        "# تابع سیگموئید و مشتق آن\n",
        "def sigmoid(z):\n",
        "    return 1 / (1 + np.exp(-z))\n",
        "\n",
        "def sigmoid_derivative(a):\n",
        "    return a * (1 - a)\n",
        "\n",
        "# تعریف کلاس شبکه عصبی ساده\n",
        "class NeuralNetwork:\n",
        "    def __init__(self, input_size, hidden_size, output_size):\n",
        "        # وزن‌ها و بایاس‌ها را به صورت تصادفی مقداردهی می‌کنیم\n",
        "        self.W1 = np.random.randn(input_size, hidden_size)\n",
        "        self.b1 = np.zeros((1, hidden_size))\n",
        "        self.W2 = np.random.randn(hidden_size, output_size)\n",
        "        self.b2 = np.zeros((1, output_size))\n",
        "\n",
        "    def forward(self, X):\n",
        "        # لایه پنهان\n",
        "        self.z1 = np.dot(X, self.W1) + self.b1\n",
        "        self.a1 = sigmoid(self.z1)\n",
        "        # لایه خروجی\n",
        "        self.z2 = np.dot(self.a1, self.W2) + self.b2\n",
        "        self.a2 = sigmoid(self.z2)\n",
        "        return self.a2\n",
        "\n",
        "    def backward(self, X, y, learning_rate=0.1):\n",
        "        m = X.shape[0]  # تعداد نمونه‌ها\n",
        "\n",
        "        # محاسبه خطا در خروجی\n",
        "        error = self.a2 - y\n",
        "\n",
        "        # گرادیان برای لایه خروجی\n",
        "        d_z2 = error * sigmoid_derivative(self.a2)\n",
        "        d_W2 = np.dot(self.a1.T, d_z2) / m\n",
        "        d_b2 = np.sum(d_z2, axis=0, keepdims=True) / m\n",
        "\n",
        "        # گرادیان برای لایه پنهان\n",
        "        d_a1 = np.dot(d_z2, self.W2.T)\n",
        "        d_z1 = d_a1 * sigmoid_derivative(self.a1)\n",
        "        d_W1 = np.dot(X.T, d_z1) / m\n",
        "        d_b1 = np.sum(d_z1, axis=0, keepdims=True) / m\n",
        "\n",
        "        # به‌روزرسانی وزن‌ها و بایاس‌ها\n",
        "        self.W2 -= learning_rate * d_W2\n",
        "        self.b2 -= learning_rate * d_b2\n",
        "        self.W1 -= learning_rate * d_W1\n",
        "        self.b1 -= learning_rate * d_b1\n",
        "\n",
        "    def compute_loss(self, y):\n",
        "        # محاسبه خطای میانگین مربعات\n",
        "        return np.mean((self.a2 - y) ** 2)\n",
        "\n",
        "# داده‌های ورودی و خروجی برای مسئله XOR\n",
        "X = np.array([[0,0],\n",
        "              [0,1],\n",
        "              [1,0],\n",
        "              [1,1]])\n",
        "\n",
        "y = np.array([[0],\n",
        "              [1],\n",
        "              [1],\n",
        "              [0]])\n",
        "\n",
        "# ساخت شبکه عصبی\n",
        "nn = NeuralNetwork(input_size=2, hidden_size=4, output_size=1)\n",
        "\n",
        "# تعداد تکرارهای آموزش\n",
        "epochs = 10000\n",
        "learning_rate = 0.1\n",
        "\n",
        "# حلقه آموزش\n",
        "for epoch in range(epochs):\n",
        "    output = nn.forward(X)\n",
        "    nn.backward(X, y, learning_rate)\n",
        "\n",
        "    if epoch % 1000 == 0:\n",
        "        loss = nn.compute_loss(y)\n",
        "        print(f\"Epoch {epoch}, Loss: {loss:.4f}\")\n",
        "\n",
        "# نمایش خروجی نهایی پس از آموزش\n",
        "print(\"\\nOutput after training:\")\n",
        "print(nn.forward(X))\n"
      ]
    }
  ]
}